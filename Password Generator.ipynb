{
 "cells": [
  {
   "cell_type": "markdown",
   "id": "ab6341ca",
   "metadata": {},
   "source": [
    "## Password generator using random module"
   ]
  },
  {
   "cell_type": "code",
   "execution_count": 153,
   "id": "f5f479b0",
   "metadata": {},
   "outputs": [
    {
     "name": "stdout",
     "output_type": "stream",
     "text": [
      "Enter the password length you want to generate7\n",
      "uhRmDqV\n"
     ]
    }
   ],
   "source": [
    "#This generates random password between the given alpha numeric values and special characters based on length needed\n",
    "\n",
    "import random\n",
    "\n",
    "len = int(input('Enter the password length you want to generate: '))\n",
    "\n",
    "#creating all possible values for password generation\n",
    "p='abcdefghijklmnopqrstuvwxyzABCDEFGHIJKLMNOPQRSTUVWXYZ01234567890!@#$%^&*()?'\n",
    "\n",
    "#using random module to generate samples based on length\n",
    "generate = random.sample(p,len)\n",
    "\n",
    "password = ''.join(generate)\n",
    "\n",
    "print(password)"
   ]
  },
  {
   "cell_type": "markdown",
   "id": "86e2274a",
   "metadata": {},
   "source": [
    "## Password generator using random & string module"
   ]
  },
  {
   "cell_type": "code",
   "execution_count": 157,
   "id": "4ca83b94",
   "metadata": {},
   "outputs": [
    {
     "name": "stdout",
     "output_type": "stream",
     "text": [
      "Enter the password length you want to generate: 12\n",
      "N9@Muw7Q6SR7\n"
     ]
    }
   ],
   "source": [
    "#Here we are using both random and string module to generate password, Much more randomness is obtained \n",
    "\n",
    "import random\n",
    "import string\n",
    "\n",
    "len = int(input('Enter the password length you want to generate: '))\n",
    "\n",
    "#using inbuilt data from string module\n",
    "alphanum = string.ascii_letters\n",
    "numbers = string.digits\n",
    "punctuation = string.punctuation\n",
    "hexa = string.hexdigits\n",
    "\n",
    "#combining all data\n",
    "temp = alphanum + numbers + punctuation + hexa\n",
    "\n",
    "#using random module to generate samples based on length \n",
    "generate = random.sample(temp,len)\n",
    "\n",
    "password = ''.join(generate)\n",
    "\n",
    "print(password)"
   ]
  }
 ],
 "metadata": {
  "kernelspec": {
   "display_name": "Python 3 (ipykernel)",
   "language": "python",
   "name": "python3"
  },
  "language_info": {
   "codemirror_mode": {
    "name": "ipython",
    "version": 3
   },
   "file_extension": ".py",
   "mimetype": "text/x-python",
   "name": "python",
   "nbconvert_exporter": "python",
   "pygments_lexer": "ipython3",
   "version": "3.9.7"
  }
 },
 "nbformat": 4,
 "nbformat_minor": 5
}
